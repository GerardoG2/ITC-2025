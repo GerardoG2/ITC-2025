{
 "cells": [
  {
   "cell_type": "markdown",
   "id": "38fe8159-c528-4323-b638-5f65f11e7da5",
   "metadata": {},
   "source": [
    "# Set Up"
   ]
  },
  {
   "cell_type": "code",
   "execution_count": 14,
   "id": "d873ee9d-5f50-4ed6-951e-0d48e19c8865",
   "metadata": {},
   "outputs": [],
   "source": [
    "import pandas as pd\n",
    "import numpy as np \n",
    "import matplotlib.pyplot as plt\n",
    "import matplotlib.ticker as ticker\n",
    "import seaborn as sns"
   ]
  },
  {
   "cell_type": "code",
   "execution_count": 15,
   "id": "ced92eaf-b3cc-458f-bc5e-70aa5502a0c3",
   "metadata": {},
   "outputs": [],
   "source": [
    "# reading excel file for outages \n",
    "circuit_outage= pd.read_excel(\"Data/circuit_outages_ibec.xlsx\", sheet_name = \"Circuit Outage\", usecols= \"A:G\") # circuit outage sheet \n",
    "circuit_lookup = pd.read_excel(\"Data/circuit_outages_ibec.xlsx\", sheet_name = \"LookUp\", usecols= \"A:J\") # lookup sheet - circuits\n",
    "outage_cause_lookup = pd.read_excel(\"Data/circuit_outages_ibec.xlsx\", sheet_name = \"LookUp\", usecols= \"L:M\", nrows=8) # lookup sheet - outage causes"
   ]
  },
  {
   "cell_type": "markdown",
   "id": "8aa5b2a5-8b2d-412b-815f-b1b31bf52caf",
   "metadata": {},
   "source": [
    "# Data Enrichment"
   ]
  },
  {
   "cell_type": "markdown",
   "id": "cf831a73-ebd2-415e-965a-edb1d4b03bbf",
   "metadata": {},
   "source": [
    "Renaming columns for intuitive interpretation."
   ]
  },
  {
   "cell_type": "code",
   "execution_count": 16,
   "id": "b6335d77-8736-45ec-b8d0-aa1180d4eeb0",
   "metadata": {},
   "outputs": [],
   "source": [
    "# renaming outage dataframe\n",
    "circuit_outage = circuit_outage.rename(columns = {'Circuit Number':'circuit_number', \n",
    "                                                  'Circuit Name':'circuit_name', \n",
    "                                                  'Outage Date':'outage_date', \n",
    "                                                  'Outage CauseCode':'outage_cause_code',\n",
    "                                                  'Outage Cause':'outage_cause', \n",
    "                                                  'Outage Duration (min)':'outage_duration', \n",
    "                                                  'Customers Affected':'customers_affected'})"
   ]
  },
  {
   "cell_type": "code",
   "execution_count": 17,
   "id": "5d2fa92d-853f-43fa-a04f-ad67b235aa80",
   "metadata": {},
   "outputs": [],
   "source": [
    "# renaming circuit dataframe\n",
    "circuit_lookup = circuit_lookup.rename(columns={'Circuit Number':'circuit_number', \n",
    "                                  'Circuit Name':'circuit_name', \n",
    "                                  'KV':'voltage', \n",
    "                                  'Region':'region', \n",
    "                                  'Customer Count':'customer_count',\n",
    "                                  'Circuit Miles':'circuit_miles',\n",
    "                                  '% Overhead':'percent_overhead',\n",
    "                                  '% Underground':'percent_underground',\n",
    "                                  '2023 SAIDI':'saidi_2023',\n",
    "                                  '2023 SAIFI':'saifi_2023'}) # column labels for circuit table"
   ]
  },
  {
   "cell_type": "markdown",
   "id": "7bf691e3-893a-4bc0-92cb-a82f13736c58",
   "metadata": {},
   "source": [
    "Enriching Data with new features to prepare for analysis."
   ]
  },
  {
   "cell_type": "markdown",
   "id": "c0d65621-fb9d-43f2-8808-6d6062e7d27e",
   "metadata": {},
   "source": [
    "Circuit Outage Table Features\n",
    "* **Season** - season of the year outage occured in.\n",
    "    - To identify how outages are related to seasonal changes.\n",
    "* **CMI** - customer minutes interrupted per **outage**\n",
    "    - Calculated as: '# customers affected x duration of outage'"
   ]
  },
  {
   "cell_type": "code",
   "execution_count": 18,
   "id": "caf51e91-eb18-4e11-af72-17ad3d801ac8",
   "metadata": {
    "scrolled": true
   },
   "outputs": [],
   "source": [
    "# functioon to create season column from date column \n",
    "def get_season(date):\n",
    "    month = date.month\n",
    "    if month in [12,1,2]:\n",
    "        return 'Winter'\n",
    "    elif month in [3,4,5]:\n",
    "        return 'Spring'\n",
    "    elif month in [6,7,8]:\n",
    "        return 'Summer'\n",
    "    elif month in [9,10,11]:\n",
    "        return 'Fall'\n",
    "        \n",
    "circuit_outage['season'] = circuit_outage['outage_date'].apply(get_season) # return season outage occured in\n",
    "circuit_outage['cmi'] = circuit_outage['customers_affected'] * circuit_outage['outage_duration'] # return total customer minutes interrupted of\n",
    "\n",
    "\n"
   ]
  },
  {
   "cell_type": "markdown",
   "id": "ba757ad0-5b3d-4b40-a2ef-56e4fd7d4d99",
   "metadata": {},
   "source": [
    "Circuit Lookup Table Features<br>\n",
    "2024 Circuit Reliability Metrics - Indices used to understand how a circuit is performing.\n",
    "* 2024 SAIDI = 'total outage time / customers served'\n",
    "* 2024 SAIFI = 'total outages / customers served'\n",
    "\n",
    "Change From Previous Year - to examine which circuits are experiencing the greatest increase/decrease in outages. \n",
    "* SAIDI change from previous year = saidi_2024 - saidi_2023\n",
    "* SAIFI change from previous year = saifi_2024 - saidi_2023\n",
    "\n",
    "**2024 CMI** - total customer minutes interrupted **per circuit for the year 2024**"
   ]
  },
  {
   "cell_type": "code",
   "execution_count": 21,
   "id": "13cf321f-ee97-41ac-83b2-4296f7bcb215",
   "metadata": {},
   "outputs": [
    {
     "ename": "KeyError",
     "evalue": "'total_outage_time_2024'",
     "output_type": "error",
     "traceback": [
      "\u001b[0;31m---------------------------------------------------------------------------\u001b[0m",
      "\u001b[0;31mKeyError\u001b[0m                                  Traceback (most recent call last)",
      "File \u001b[0;32m~/Library/Python/3.9/lib/python/site-packages/pandas/core/indexes/base.py:3805\u001b[0m, in \u001b[0;36mIndex.get_loc\u001b[0;34m(self, key)\u001b[0m\n\u001b[1;32m   3804\u001b[0m \u001b[38;5;28;01mtry\u001b[39;00m:\n\u001b[0;32m-> 3805\u001b[0m     \u001b[38;5;28;01mreturn\u001b[39;00m \u001b[38;5;28;43mself\u001b[39;49m\u001b[38;5;241;43m.\u001b[39;49m\u001b[43m_engine\u001b[49m\u001b[38;5;241;43m.\u001b[39;49m\u001b[43mget_loc\u001b[49m\u001b[43m(\u001b[49m\u001b[43mcasted_key\u001b[49m\u001b[43m)\u001b[49m\n\u001b[1;32m   3806\u001b[0m \u001b[38;5;28;01mexcept\u001b[39;00m \u001b[38;5;167;01mKeyError\u001b[39;00m \u001b[38;5;28;01mas\u001b[39;00m err:\n",
      "File \u001b[0;32mindex.pyx:167\u001b[0m, in \u001b[0;36mpandas._libs.index.IndexEngine.get_loc\u001b[0;34m()\u001b[0m\n",
      "File \u001b[0;32mindex.pyx:196\u001b[0m, in \u001b[0;36mpandas._libs.index.IndexEngine.get_loc\u001b[0;34m()\u001b[0m\n",
      "File \u001b[0;32mpandas/_libs/hashtable_class_helper.pxi:7081\u001b[0m, in \u001b[0;36mpandas._libs.hashtable.PyObjectHashTable.get_item\u001b[0;34m()\u001b[0m\n",
      "File \u001b[0;32mpandas/_libs/hashtable_class_helper.pxi:7089\u001b[0m, in \u001b[0;36mpandas._libs.hashtable.PyObjectHashTable.get_item\u001b[0;34m()\u001b[0m\n",
      "\u001b[0;31mKeyError\u001b[0m: 'total_outage_time_2024'",
      "\nThe above exception was the direct cause of the following exception:\n",
      "\u001b[0;31mKeyError\u001b[0m                                  Traceback (most recent call last)",
      "Cell \u001b[0;32mIn[21], line 6\u001b[0m\n\u001b[1;32m      4\u001b[0m total_outage_time_2024 \u001b[38;5;241m=\u001b[39m circuit_outage\u001b[38;5;241m.\u001b[39mgroupby(\u001b[38;5;124m'\u001b[39m\u001b[38;5;124mcircuit_name\u001b[39m\u001b[38;5;124m'\u001b[39m)[\u001b[38;5;124m'\u001b[39m\u001b[38;5;124moutage_duration\u001b[39m\u001b[38;5;124m'\u001b[39m]\u001b[38;5;241m.\u001b[39msum()\u001b[38;5;241m.\u001b[39mreset_index(name\u001b[38;5;241m=\u001b[39m\u001b[38;5;124m'\u001b[39m\u001b[38;5;124mtotal_outage_time_2024\u001b[39m\u001b[38;5;124m'\u001b[39m)\n\u001b[1;32m      5\u001b[0m circuit_lookup \u001b[38;5;241m=\u001b[39m circuit_lookup\u001b[38;5;241m.\u001b[39mmerge(total_outage_time_2024, on \u001b[38;5;241m=\u001b[39m\u001b[38;5;124m'\u001b[39m\u001b[38;5;124mcircuit_name\u001b[39m\u001b[38;5;124m'\u001b[39m, how \u001b[38;5;241m=\u001b[39m \u001b[38;5;124m'\u001b[39m\u001b[38;5;124mleft\u001b[39m\u001b[38;5;124m'\u001b[39m)\n\u001b[0;32m----> 6\u001b[0m circuit_lookup[\u001b[38;5;124m'\u001b[39m\u001b[38;5;124msaidi_2024\u001b[39m\u001b[38;5;124m'\u001b[39m] \u001b[38;5;241m=\u001b[39m ( \u001b[43mcircuit_lookup\u001b[49m\u001b[43m[\u001b[49m\u001b[38;5;124;43m'\u001b[39;49m\u001b[38;5;124;43mtotal_outage_time_2024\u001b[39;49m\u001b[38;5;124;43m'\u001b[39;49m\u001b[43m]\u001b[49m\u001b[38;5;241m/\u001b[39mcircuit[\u001b[38;5;124m'\u001b[39m\u001b[38;5;124mcustomer_count\u001b[39m\u001b[38;5;124m'\u001b[39m] )\u001b[38;5;241m.\u001b[39mround(\u001b[38;5;241m2\u001b[39m)\n\u001b[1;32m      7\u001b[0m \u001b[38;5;66;03m# SAIFI 2024\u001b[39;00m\n\u001b[1;32m      8\u001b[0m total_outages_2024 \u001b[38;5;241m=\u001b[39m  circuit_outage\u001b[38;5;241m.\u001b[39mgroupby(\u001b[38;5;124m'\u001b[39m\u001b[38;5;124mcircuit_name\u001b[39m\u001b[38;5;124m'\u001b[39m)\u001b[38;5;241m.\u001b[39msize()\u001b[38;5;241m.\u001b[39mreset_index(name \u001b[38;5;241m=\u001b[39m \u001b[38;5;124m'\u001b[39m\u001b[38;5;124mtotal_outages_2024\u001b[39m\u001b[38;5;124m'\u001b[39m)\n",
      "File \u001b[0;32m~/Library/Python/3.9/lib/python/site-packages/pandas/core/frame.py:4102\u001b[0m, in \u001b[0;36mDataFrame.__getitem__\u001b[0;34m(self, key)\u001b[0m\n\u001b[1;32m   4100\u001b[0m \u001b[38;5;28;01mif\u001b[39;00m \u001b[38;5;28mself\u001b[39m\u001b[38;5;241m.\u001b[39mcolumns\u001b[38;5;241m.\u001b[39mnlevels \u001b[38;5;241m>\u001b[39m \u001b[38;5;241m1\u001b[39m:\n\u001b[1;32m   4101\u001b[0m     \u001b[38;5;28;01mreturn\u001b[39;00m \u001b[38;5;28mself\u001b[39m\u001b[38;5;241m.\u001b[39m_getitem_multilevel(key)\n\u001b[0;32m-> 4102\u001b[0m indexer \u001b[38;5;241m=\u001b[39m \u001b[38;5;28;43mself\u001b[39;49m\u001b[38;5;241;43m.\u001b[39;49m\u001b[43mcolumns\u001b[49m\u001b[38;5;241;43m.\u001b[39;49m\u001b[43mget_loc\u001b[49m\u001b[43m(\u001b[49m\u001b[43mkey\u001b[49m\u001b[43m)\u001b[49m\n\u001b[1;32m   4103\u001b[0m \u001b[38;5;28;01mif\u001b[39;00m is_integer(indexer):\n\u001b[1;32m   4104\u001b[0m     indexer \u001b[38;5;241m=\u001b[39m [indexer]\n",
      "File \u001b[0;32m~/Library/Python/3.9/lib/python/site-packages/pandas/core/indexes/base.py:3812\u001b[0m, in \u001b[0;36mIndex.get_loc\u001b[0;34m(self, key)\u001b[0m\n\u001b[1;32m   3807\u001b[0m     \u001b[38;5;28;01mif\u001b[39;00m \u001b[38;5;28misinstance\u001b[39m(casted_key, \u001b[38;5;28mslice\u001b[39m) \u001b[38;5;129;01mor\u001b[39;00m (\n\u001b[1;32m   3808\u001b[0m         \u001b[38;5;28misinstance\u001b[39m(casted_key, abc\u001b[38;5;241m.\u001b[39mIterable)\n\u001b[1;32m   3809\u001b[0m         \u001b[38;5;129;01mand\u001b[39;00m \u001b[38;5;28many\u001b[39m(\u001b[38;5;28misinstance\u001b[39m(x, \u001b[38;5;28mslice\u001b[39m) \u001b[38;5;28;01mfor\u001b[39;00m x \u001b[38;5;129;01min\u001b[39;00m casted_key)\n\u001b[1;32m   3810\u001b[0m     ):\n\u001b[1;32m   3811\u001b[0m         \u001b[38;5;28;01mraise\u001b[39;00m InvalidIndexError(key)\n\u001b[0;32m-> 3812\u001b[0m     \u001b[38;5;28;01mraise\u001b[39;00m \u001b[38;5;167;01mKeyError\u001b[39;00m(key) \u001b[38;5;28;01mfrom\u001b[39;00m \u001b[38;5;21;01merr\u001b[39;00m\n\u001b[1;32m   3813\u001b[0m \u001b[38;5;28;01mexcept\u001b[39;00m \u001b[38;5;167;01mTypeError\u001b[39;00m:\n\u001b[1;32m   3814\u001b[0m     \u001b[38;5;66;03m# If we have a listlike key, _check_indexing_error will raise\u001b[39;00m\n\u001b[1;32m   3815\u001b[0m     \u001b[38;5;66;03m#  InvalidIndexError. Otherwise we fall through and re-raise\u001b[39;00m\n\u001b[1;32m   3816\u001b[0m     \u001b[38;5;66;03m#  the TypeError.\u001b[39;00m\n\u001b[1;32m   3817\u001b[0m     \u001b[38;5;28mself\u001b[39m\u001b[38;5;241m.\u001b[39m_check_indexing_error(key)\n",
      "\u001b[0;31mKeyError\u001b[0m: 'total_outage_time_2024'"
     ]
    }
   ],
   "source": [
    "# circuit table features \n",
    "\n",
    "# SAIDI 2024\n",
    "total_outage_time_2024 = circuit_outage.groupby('circuit_name')['outage_duration'].sum().reset_index(name='total_outage_time_2024')\n",
    "circuit_lookup = circuit_lookup.merge(total_outage_time_2024, on ='circuit_name', how = 'left')\n",
    "circuit_lookup['saidi_2024'] = ( circuit_lookup['total_outage_time_2024']/circuit['customer_count'] ).round(2)\n",
    "# SAIFI 2024\n",
    "total_outages_2024 =  circuit_outage.groupby('circuit_name').size().reset_index(name = 'total_outages_2024')\n",
    "circuit_lookup = circuit_lookup.merge(total_outages_2024, on ='circuit_name', how = 'left')\n",
    "circuit_lookup['saifi_2024'] = ( circuit['total_outages_2024'] / circuit_lookup['customer_count'] ).round(3)\n",
    "\n",
    "# Changes from Previous Year\n",
    "circuit_lookup['saidi_diff_from_prev_year'] = circuit_lookup['saidi_2024'] - circuit_lookup['saidi_2023']\n",
    "circuit_lookup['saifi_diff_from_prev_year'] = circuit_lookup['saifi_2024'] - circuit_lookup['saifi_2023']\n",
    "\n",
    "# Create CMI Column Pe\n",
    "cmi_per_circuit = circuit_outage.groupby(\"circuit_name\")[\"cmi\"].sum().reset_index()\n",
    "circuit_lookup = circuit_lookup.merge(cmi_per_circuit, on=\"circuit_name\", how=\"left\")\n",
    "circuit_lookup = circuit_lookup.rename(columns={\"cmi\": \"cmi_2024\"})\n"
   ]
  },
  {
   "cell_type": "markdown",
   "id": "db7a51a2-46d6-4634-81b9-02fa2864603a",
   "metadata": {},
   "source": [
    "Join enriched dataframes to denormalize data "
   ]
  },
  {
   "cell_type": "code",
   "execution_count": null,
   "id": "927acf88-327e-4e71-a12a-435794e45933",
   "metadata": {},
   "outputs": [],
   "source": [
    "\n",
    "df = (circuit_outage.merge(circuit, on=['circuit_number','circuit_name'], how='inner')\n",
    ")\n"
   ]
  },
  {
   "cell_type": "code",
   "execution_count": null,
   "id": "ce2dfec9-1e00-4416-b953-b7bc5ebde3a1",
   "metadata": {},
   "outputs": [],
   "source": [
    "circuit.head()\n"
   ]
  },
  {
   "cell_type": "code",
   "execution_count": null,
   "id": "24c9b786-0d4b-4267-9e39-ae31470fe0f4",
   "metadata": {},
   "outputs": [],
   "source": [
    "circuit.columns\n",
    "new_column_order = ['circuit_number', 'circuit_name', 'voltage', 'region', 'customer_count',\n",
    "       'circuit_miles', 'percent_overhead', 'percent_underground',\n",
    "       'saidi_2023','saidi_2024', 'saidi_diff_from_prev_year',\n",
    "        'saifi_2023','saifi_2024','saifi_diff_from_prev_year','total_outage_time_2024',  'total_outages_2024']\n",
    "circuit = circuit[new_column_order]\n",
    "circuit.head(20)"
   ]
  },
  {
   "cell_type": "code",
   "execution_count": null,
   "id": "d08920a7-7d6a-4542-9b70-8b726c33ef3f",
   "metadata": {},
   "outputs": [],
   "source": [
    "df.columns"
   ]
  },
  {
   "cell_type": "code",
   "execution_count": null,
   "id": "54192603-807d-47ee-a01e-8a84f8b8c03e",
   "metadata": {},
   "outputs": [],
   "source": [
    "new_column_order = ['circuit_number', 'circuit_name', 'outage_date', 'season', 'outage_cause_code',\n",
    "       'outage_cause', 'outage_duration', 'customers_affected',\n",
    "       'cmi', 'voltage', 'region', 'customer_count', 'circuit_miles',\n",
    "       'percent_overhead', 'percent_underground', 'saidi_2023','saidi_2024', 'saidi_diff_from_prev_year',\n",
    "        'saifi_2023','saifi_2024','saifi_diff_from_prev_year','total_outage_time_2024',  'total_outages_2024'\n",
    "         ]\n",
    "df = df[new_column_order]"
   ]
  },
  {
   "cell_type": "code",
   "execution_count": null,
   "id": "d0ddb21e-4ec3-4a06-84d8-4c34ad89f131",
   "metadata": {},
   "outputs": [],
   "source": [
    "df.head(20)"
   ]
  },
  {
   "cell_type": "code",
   "execution_count": null,
   "id": "e0268b64-2dba-4d0d-b66d-442eb5ed8d71",
   "metadata": {},
   "outputs": [],
   "source": [
    "circuit.head(20)"
   ]
  },
  {
   "cell_type": "code",
   "execution_count": null,
   "id": "cac36add-aea6-4fb6-8940-d8195e3661c1",
   "metadata": {},
   "outputs": [],
   "source": [
    "# renaming outage cause \n",
    "outage_cause = outage_cause.rename(columns={'Outage Cause Code':'outage_cause_code', \n",
    "                                            'Outage Cause':'outage_cause'}) # column labels for outage cause"
   ]
  },
  {
   "cell_type": "code",
   "execution_count": null,
   "id": "3065cd2c-438a-4135-9097-59afb7e59445",
   "metadata": {},
   "outputs": [],
   "source": [
    "# Circuits Ordered by total Customer Minutes Interrupted\n",
    "\n",
    "total_cmi = (\n",
    "    df\n",
    "    .groupby(['circuit_name', 'region', 'voltage'])['cmi']\n",
    "    .sum()\n",
    "    .reset_index(name='total_cmi')  \n",
    "    .sort_values(by='total_cmi', ascending=False)\n",
    "    .reset_index(drop=True)\n",
    ")\n",
    "\n",
    "\n",
    "total_cmi"
   ]
  }
 ],
 "metadata": {
  "kernelspec": {
   "display_name": "Python 3 (ipykernel)",
   "language": "python",
   "name": "python3"
  },
  "language_info": {
   "codemirror_mode": {
    "name": "ipython",
    "version": 3
   },
   "file_extension": ".py",
   "mimetype": "text/x-python",
   "name": "python",
   "nbconvert_exporter": "python",
   "pygments_lexer": "ipython3",
   "version": "3.9.6"
  }
 },
 "nbformat": 4,
 "nbformat_minor": 5
}
